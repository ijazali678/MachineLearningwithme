{
 "cells": [
  {
   "cell_type": "markdown",
   "metadata": {},
   "source": [
    "# Computer Vision week\n",
    "\n",
    "the basic unit of image is Pixel\n",
    "\n",
    "the more pixel in image the quality image you will see\n",
    "\n",
    "#screen size\n",
    "\n",
    "HD, FHD and 4K \n",
    "\n",
    "#  Bits or Bit Depth\n",
    "\n",
    "the number of bits used to define each pixel. means tone of colour\n",
    "\n",
    "black and white means binary \n",
    "\n",
    "00 represent black\n",
    "\n",
    "10 represent white"
   ]
  },
  {
   "cell_type": "markdown",
   "metadata": {},
   "source": [
    "#  three type of colour in Open CV\n",
    "\n",
    "bitonal\n",
    "\n",
    "Grey scale \n",
    "\n",
    "RGB (Red, Green and Blue)\n",
    "\n"
   ]
  },
  {
   "cell_type": "code",
   "execution_count": 1,
   "metadata": {},
   "outputs": [
    {
     "name": "stdout",
     "output_type": "stream",
     "text": [
      "Collecting opencv-pythonNote: you may need to restart the kernel to use updated packages.\n",
      "\n",
      "  Downloading opencv_python-4.6.0.66-cp36-abi3-win_amd64.whl (35.6 MB)\n",
      "Requirement already satisfied: numpy>=1.17.3 in c:\\users\\ali jin\\anaconda3\\lib\\site-packages (from opencv-python) (1.20.3)\n",
      "Installing collected packages: opencv-python\n",
      "Successfully installed opencv-python-4.6.0.66\n"
     ]
    }
   ],
   "source": [
    "\n",
    "pip install opencv-python"
   ]
  },
  {
   "cell_type": "code",
   "execution_count": 1,
   "metadata": {},
   "outputs": [
    {
     "data": {
      "text/plain": [
       "-1"
      ]
     },
     "execution_count": 1,
     "metadata": {},
     "output_type": "execute_result"
    }
   ],
   "source": [
    "# basic library\n",
    "import cv2 as cv\n",
    "\n",
    "\n",
    "ing = cv.imread(\"Resurcess/image (1).jpg\")\n",
    "\n",
    "\n",
    "cv.imshow(\"awal taswer\", ing)\n",
    "cv.waitKey(0)"
   ]
  }
 ],
 "metadata": {
  "kernelspec": {
   "display_name": "Python 3.9.7 ('base')",
   "language": "python",
   "name": "python3"
  },
  "language_info": {
   "codemirror_mode": {
    "name": "ipython",
    "version": 3
   },
   "file_extension": ".py",
   "mimetype": "text/x-python",
   "name": "python",
   "nbconvert_exporter": "python",
   "pygments_lexer": "ipython3",
   "version": "3.9.7"
  },
  "orig_nbformat": 4,
  "vscode": {
   "interpreter": {
    "hash": "89d004a985896ab8d4f08cf14ee7088947905dfdacbd1a4e8313a12e3c3f6868"
   }
  }
 },
 "nbformat": 4,
 "nbformat_minor": 2
}
