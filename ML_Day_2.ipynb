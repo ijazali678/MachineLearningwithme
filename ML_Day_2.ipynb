{
 "cells": [
  {
   "cell_type": "code",
   "execution_count": 1,
   "metadata": {},
   "outputs": [
    {
     "name": "stdout",
     "output_type": "stream",
     "text": [
      "Requirement already satisfied: scipy in c:\\users\\ali jin\\anaconda3\\lib\\site-packages (1.7.1)\n",
      "Requirement already satisfied: numpy<1.23.0,>=1.16.5 in c:\\users\\ali jin\\anaconda3\\lib\\site-packages (from scipy) (1.20.3)\n",
      "Note: you may need to restart the kernel to use updated packages.\n"
     ]
    }
   ],
   "source": [
    "pip install scipy"
   ]
  },
  {
   "cell_type": "code",
   "execution_count": 2,
   "metadata": {},
   "outputs": [],
   "source": [
    "# example for the shapping the normility test\n",
    "#first step is to import library\n",
    "from scipy.stats import shapiro"
   ]
  },
  {
   "cell_type": "code",
   "execution_count": 4,
   "metadata": {},
   "outputs": [
    {
     "data": {
      "text/plain": [
       "ShapiroResult(statistic=0.6953961849212646, pvalue=0.0012539859162643552)"
      ]
     },
     "execution_count": 4,
     "metadata": {},
     "output_type": "execute_result"
    }
   ],
   "source": [
    "data = [0.25,0.265,0.251,0.2548,0.2354,-0.256,-0.265,-0.25638,0.3254]\n",
    "shapiro(data)"
   ]
  },
  {
   "cell_type": "code",
   "execution_count": 6,
   "metadata": {},
   "outputs": [
    {
     "name": "stdout",
     "output_type": "stream",
     "text": [
      "state 0.6953961849212646\n",
      "P-Value 0.0012539859162643552\n"
     ]
    }
   ],
   "source": [
    "stat, p = shapiro(data)\n",
    "print(\"state\",stat)\n",
    "print(\"P-Value\", p)"
   ]
  },
  {
   "cell_type": "code",
   "execution_count": 7,
   "metadata": {},
   "outputs": [
    {
     "name": "stdout",
     "output_type": "stream",
     "text": [
      "the data is not normal\n"
     ]
    }
   ],
   "source": [
    "if p > 0.05:\n",
    "    print(\"The data is normal\")\n",
    "else:\n",
    "    print(\"the data is not normal\")"
   ]
  },
  {
   "cell_type": "code",
   "execution_count": 8,
   "metadata": {},
   "outputs": [],
   "source": [
    "import pandas as pd\n",
    "import numpy as np\n",
    "import seaborn as sns\n",
    "import matplotlib.pyplot as plt\n",
    "\n",
    "ks = sns.load_dataset(\"titanic\")\n"
   ]
  },
  {
   "cell_type": "code",
   "execution_count": 9,
   "metadata": {},
   "outputs": [
    {
     "data": {
      "text/plain": [
       "<AxesSubplot:>"
      ]
     },
     "execution_count": 9,
     "metadata": {},
     "output_type": "execute_result"
    },
    {
     "data": {
      "image/png": "[encoded data removed]",
      "text/plain": [
       "<Figure size 432x288 with 1 Axes>"
      ]
     },
     "metadata": {
      "needs_background": "light"
     },
     "output_type": "display_data"
    }
   ],
   "source": [
    "ks[\"age\"].hist()"
   ]
  },
  {
   "cell_type": "code",
   "execution_count": 10,
   "metadata": {},
   "outputs": [
    {
     "name": "stderr",
     "output_type": "stream",
     "text": [
      "c:\\Users\\Ali Jin\\anaconda3\\lib\\site-packages\\seaborn\\_decorators.py:36: FutureWarning: Pass the following variable as a keyword arg: x. From version 0.12, the only valid positional argument will be `data`, and passing other arguments without an explicit keyword will result in an error or misinterpretation.\n",
      "  warnings.warn(\n"
     ]
    },
    {
     "data": {
      "text/plain": [
       "<AxesSubplot:xlabel='age'>"
      ]
     },
     "execution_count": 10,
     "metadata": {},
     "output_type": "execute_result"
    },
    {
     "data": {
      "image/png": "[encoded data removed]",
      "text/plain": [
       "<Figure size 432x288 with 1 Axes>"
      ]
     },
     "metadata": {
      "needs_background": "light"
     },
     "output_type": "display_data"
    }
   ],
   "source": [
    "sns.boxplot(ks[\"age\"])"
   ]
  },
  {
   "cell_type": "code",
   "execution_count": 11,
   "metadata": {},
   "outputs": [
    {
     "data": {
      "text/plain": [
       "ShapiroResult(statistic=nan, pvalue=1.0)"
      ]
     },
     "execution_count": 11,
     "metadata": {},
     "output_type": "execute_result"
    }
   ],
   "source": [
    "#normality check for data\n",
    "from scipy.stats import shapiro\n",
    "shapiro(ks[\"age\"])"
   ]
  },
  {
   "cell_type": "code",
   "execution_count": 25,
   "metadata": {},
   "outputs": [
    {
     "name": "stdout",
     "output_type": "stream",
     "text": [
      "state 0.9906661510467529\n",
      "P-Value 0.2841445505619049\n",
      "Probably Gaussian  the data is normal\n"
     ]
    }
   ],
   "source": [
    "# this script is use for the normality check for data\n",
    "from scipy.stats import shapiro\n",
    "shapiro(ks[\"age\"])\n",
    "\n",
    "# example of the shapiro wilk normality test\n",
    "stat, p = shapiro(ks[\"age\"])\n",
    "print(\"state\",stat)\n",
    "print(\"P-Value\", p)\n",
    "if p > 0.05:\n",
    "    print(\"Probably Gaussian\",\" the data is normal\")\n",
    "else:\n",
    "    print(\"Probably Nor Gaussian\",\"the data is not normal\")"
   ]
  },
  {
   "cell_type": "code",
   "execution_count": 21,
   "metadata": {},
   "outputs": [
    {
     "name": "stdout",
     "output_type": "stream",
     "text": [
      "state 0.9906661510467529\n",
      "P-Value 0.2841445505619049\n",
      "The data is normal  or probably normal distribution\n"
     ]
    }
   ],
   "source": [
    "# for the removel of outliyers\n",
    "ks = ks.dropna()\n",
    "stat, p = shapiro(ks[\"age\"])\n",
    "print(\"state\",stat)\n",
    "print(\"P-Value\", p)\n",
    "if p > 0.05:\n",
    "    print(\"The data is normal\",\" or probably normal distribution\")\n",
    "else:\n",
    "    print(\"the data is not normal\")"
   ]
  },
  {
   "cell_type": "code",
   "execution_count": 17,
   "metadata": {},
   "outputs": [
    {
     "name": "stderr",
     "output_type": "stream",
     "text": [
      "c:\\Users\\Ali Jin\\anaconda3\\lib\\site-packages\\seaborn\\_decorators.py:36: FutureWarning: Pass the following variable as a keyword arg: x. From version 0.12, the only valid positional argument will be `data`, and passing other arguments without an explicit keyword will result in an error or misinterpretation.\n",
      "  warnings.warn(\n"
     ]
    },
    {
     "data": {
      "text/plain": [
       "<AxesSubplot:xlabel='age'>"
      ]
     },
     "execution_count": 17,
     "metadata": {},
     "output_type": "execute_result"
    },
    {
     "data": {
      "image/png": "[encoded data removed]",
      "text/plain": [
       "<Figure size 432x288 with 1 Axes>"
      ]
     },
     "metadata": {
      "needs_background": "light"
     },
     "output_type": "display_data"
    }
   ],
   "source": [
    "sns.boxplot(ks[\"age\"])\n",
    "#the data is normal"
   ]
  },
  {
   "cell_type": "markdown",
   "metadata": {},
   "source": [
    "#  - Correlation test\n",
    "1- Pearson's Correlation coefficent \n",
    "\n",
    "H0 means the two samples are independent\n",
    "\n",
    "H1 there is a dependency between the samples\n"
   ]
  },
  {
   "cell_type": "code",
   "execution_count": 39,
   "metadata": {},
   "outputs": [
    {
     "name": "stdout",
     "output_type": "stream",
     "text": [
      "stat (-0.09073036394094942, 0.2231859162586138)\n",
      "probably independent or no correlation\n"
     ]
    }
   ],
   "source": [
    "from scipy.stats import pearsonr\n",
    "data1 = [0.256,0.25,0.265,0.251,0.2548,0.2354,-0.256,0.2547]\n",
    "data2 = [0.354,0.3568,0.3687,0.3254,0.1577,0.3974,0.3419,0.324]\n",
    "stat, p = pearsonr(ks[\"age\"],ks[\"fare\"])\n",
    "print(\"stat\",(stat, p))\n",
    "if p > 0.05:\n",
    "    print(\"probably independent or no correlation\")\n",
    "else:\n",
    "    print(\"probably dependent or Correlation exist\")"
   ]
  },
  {
   "cell_type": "markdown",
   "metadata": {},
   "source": [
    "#  Chi squared Test\n",
    "\n",
    "H0 means two samples are independent\n",
    "\n",
    "H1 there is a dependency the samples "
   ]
  },
  {
   "cell_type": "code",
   "execution_count": 34,
   "metadata": {},
   "outputs": [
    {
     "name": "stdout",
     "output_type": "stream",
     "text": [
      "state, if, p (36.96344230540829, 9.407852230513533e-09)\n",
      "probably dependent or Correlation exist\n"
     ]
    }
   ],
   "source": [
    "from pydoc import doc\n",
    "from scipy.stats import chi2_contingency\n",
    "table = [[45,63,23],[56,7,12]]\n",
    "stat, p, doc, expected = chi2_contingency(table)\n",
    "print(\"state, if, p\", (stat,p))\n",
    "if p > 0.05:\n",
    "    print(\"probably independent or no correlation\")\n",
    "else:\n",
    "    print(\"probably dependent or Correlation exist\")\n"
   ]
  },
  {
   "cell_type": "markdown",
   "metadata": {},
   "source": [
    "3 - Parametric statistical hypothesis tests\n",
    "1- student's t-test\n",
    "\n",
    "h0 the means of the sample are equal\n",
    "h1 means of the sample are unqual"
   ]
  },
  {
   "cell_type": "code",
   "execution_count": 36,
   "metadata": {},
   "outputs": [
    {
     "name": "stdout",
     "output_type": "stream",
     "text": [
      "stat (-2.030488239298966, 0.061750242424148616)\n",
      "same distribution or equal means\n"
     ]
    }
   ],
   "source": [
    "from scipy.stats import ttest_ind\n",
    "data1 = [0.256,0.25,0.265,0.251,0.2548,0.2354,-0.256,0.2547]\n",
    "data2 = [0.354,0.3568,0.3687,0.3254,0.1577,0.3974,0.3419,0.324]\n",
    "stat, p = ttest_ind(data1,data2)\n",
    "print(\"stat\",(stat, p))\n",
    "if p > 0.05:\n",
    "    print(\"same distribution or equal means\")\n",
    "else:\n",
    "    print(\"different distribution or not equal\")\n"
   ]
  },
  {
   "cell_type": "markdown",
   "metadata": {},
   "source": [
    "#  2 paird student t test\n",
    "two samples are significantly different \n",
    "\n",
    "H0 means of the sample are equal\n",
    "\n",
    "h1 the means of the sample are unqual"
   ]
  },
  {
   "cell_type": "code",
   "execution_count": 37,
   "metadata": {},
   "outputs": [
    {
     "name": "stdout",
     "output_type": "stream",
     "text": [
      "stat (-1.9715690414754496, 0.08928448894990262)\n",
      "same distribution or equal means\n"
     ]
    }
   ],
   "source": [
    "from scipy.stats import ttest_rel\n",
    "data1 = [0.256,0.25,0.265,0.251,0.2548,0.2354,-0.256,0.2547]\n",
    "data2 = [0.354,0.3568,0.3687,0.3254,0.1577,0.3974,0.3419,0.324]\n",
    "stat, p = ttest_rel(data1,data2)\n",
    "print(\"stat\",(stat, p))\n",
    "if p > 0.05:\n",
    "    print(\"same distribution or equal means\")\n",
    "else:\n",
    "    print(\"different distribution or not equal\")"
   ]
  },
  {
   "cell_type": "markdown",
   "metadata": {},
   "source": [
    "#  4 analysis of variance test ANOVA\n",
    "\n",
    "means of the two or more independent samples are significlyly diffrent"
   ]
  },
  {
   "cell_type": "code",
   "execution_count": 38,
   "metadata": {},
   "outputs": [
    {
     "name": "stdout",
     "output_type": "stream",
     "text": [
      "stat (4.59080399309059, 0.02218235585091925)\n",
      "different distribution or not equal\n"
     ]
    }
   ],
   "source": [
    "from scipy.stats import f_oneway\n",
    "data1 = [0.256,0.25,0.265,0.251,0.2548,0.2354,-0.256,0.2547]\n",
    "data2 = [0.354,0.3568,0.3687,0.3254,0.1577,0.3974,0.3419,0.324]\n",
    "data3 = [0.355,0.4368,0.3687,0.354,0.877,0.3274,0.3419,0.324]\n",
    "stat, p = f_oneway(data1,data2,data3)\n",
    "print(\"stat\",(stat, p))\n",
    "if p > 0.05:\n",
    "    print(\"same distribution or equal means\")\n",
    "else:\n",
    "    print(\"different distribution or not equal\")"
   ]
  }
 ],
 "metadata": {
  "kernelspec": {
   "display_name": "Python 3.9.7 ('base')",
   "language": "python",
   "name": "python3"
  },
  "language_info": {
   "codemirror_mode": {
    "name": "ipython",
    "version": 3
   },
   "file_extension": ".py",
   "mimetype": "text/x-python",
   "name": "python",
   "nbconvert_exporter": "python",
   "pygments_lexer": "ipython3",
   "version": "3.9.7"
  },
  "orig_nbformat": 4,
  "vscode": {
   "interpreter": {
    "hash": "89d004a985896ab8d4f08cf14ee7088947905dfdacbd1a4e8313a12e3c3f6868"
   }
  }
 },
 "nbformat": 4,
 "nbformat_minor": 2
}
